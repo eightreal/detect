{
 "cells": [
  {
   "cell_type": "code",
   "execution_count": 1,
   "id": "be490469",
   "metadata": {},
   "outputs": [],
   "source": [
    "import os \n",
    "import json\n",
    "\n",
    "from PIL import Image\n",
    "from config import *\n",
    "from tqdm import tqdm"
   ]
  },
  {
   "cell_type": "code",
   "execution_count": 2,
   "id": "5bffc9df",
   "metadata": {},
   "outputs": [],
   "source": [
    "dataset_path  = \"data/\"\n",
    "\n",
    "raw_data_path = f\"{dataset_path}/raw_data\""
   ]
  },
  {
   "cell_type": "code",
   "execution_count": 3,
   "id": "f3bc1908",
   "metadata": {},
   "outputs": [],
   "source": [
    "images_path = \"images\"\n",
    "label_path = \"labels\"\n",
    "\n",
    "train_path = \"train\"\n",
    "val_path = \"val\"\n",
    "test_path = \"test\"\n",
    "\n",
    "defect_images_path = \"defect_Images\"\n",
    "normal_images_path = \"normal_Images\"\n",
    "annotations = \"Annotations/anno_train.json\""
   ]
  },
  {
   "cell_type": "code",
   "execution_count": 4,
   "id": "5b545e30",
   "metadata": {},
   "outputs": [],
   "source": [
    "raw_data_path = [f'{raw_data_path}/train1', f'{raw_data_path}/train2']\n"
   ]
  },
  {
   "cell_type": "code",
   "execution_count": 5,
   "id": "aa77e98d",
   "metadata": {},
   "outputs": [],
   "source": [
    "yolo_label_path = f\"{dataset_path}/yolo/labels/\"\n",
    "yolo_image_path = f\"{dataset_path}/yolo/images/\""
   ]
  },
  {
   "cell_type": "code",
   "execution_count": 6,
   "id": "7240f047",
   "metadata": {},
   "outputs": [],
   "source": [
    "os.makedirs(yolo_image_path, exist_ok=True)\n",
    "os.makedirs(yolo_label_path, exist_ok=True)"
   ]
  },
  {
   "cell_type": "code",
   "execution_count": 7,
   "id": "62e4f16c",
   "metadata": {},
   "outputs": [],
   "source": [
    "def read_raw_data(path:str, test:bool=False):\n",
    "    with open(f\"{path}/{annotations}\", \"rb\") as f:\n",
    "        label_json = json.load(f)\n",
    "    # defect_images_files = os.listdir(f\"{path}/{defect_images_path}\")\n",
    "    normall_images_files = os.listdir(f\"{path}/{normal_images_path}\")\n",
    "\n",
    "    # tqdm()\n",
    "    print(len(label_json))\n",
    "    not_exists = 0\n",
    "    for item in tqdm(label_json):\n",
    "        name = item[\"name\"]\n",
    "        bbox = item[\"bbox\"]\n",
    "        \n",
    "        if  not os.path.exists(f\"{path}/{defect_images_path}/{name}\"):\n",
    "            # print(f\"{path}/{defect_images_path}/{name}\")\n",
    "            not_exists+=1\n",
    "            continue\n",
    "        with Image.open(f\"{path}/{defect_images_path}/{name}\") as img:\n",
    "            original_size = img.size\n",
    "            \n",
    "            \n",
    "            \n",
    "            label_file_path = f\"{yolo_label_path}/{name.split(\".\")[0]}.txt\" \n",
    "            img_file_path = f\"{yolo_image_path}/{name.split(\".\")[0]}.jpg\"\n",
    "            \n",
    "            with open(label_file_path, \"a+\") as label_file:\n",
    "                x_center = (bbox[0] + bbox[2]) / 2\n",
    "                y_center = (bbox[1] + bbox[3]) / 2\n",
    "                width = bbox[2] - bbox[0]\n",
    "                height = bbox[3] - bbox[1]\n",
    "                \n",
    "                x_center = x_center / original_size[0]\n",
    "                y_center = y_center / original_size[1]\n",
    "                width = width / original_size[0]\n",
    "                height = height / original_size[1]\n",
    "                label_file.write(str(0) + \" \" + str(x_center) + \" \" + str(y_center) + \" \" + str(width) + \" \" + str(height) + '\\n')\n",
    "            if not  os.path.exists(img_file_path):\n",
    "                # os.remove(img_file_path)\n",
    "                resized_img = img.resize((IMAGE_SIZE, IMAGE_SIZE))\n",
    "                resized_img.save(img_file_path)\n",
    "    \n",
    "    \n",
    "    print((not_exists))        \n",
    "    for nomal_item in tqdm(normall_images_files):\n",
    "         with Image.open(f\"{path}/{normal_images_path}/{nomal_item}\") as img:\n",
    "            resized_img = img.resize((IMAGE_SIZE,IMAGE_SIZE))\n",
    "            label_file_path = f\"{yolo_label_path}/{nomal_item.split(\".\")[0]}.txt\" \n",
    "            img_file_path = f\"{yolo_image_path}/{nomal_item.split(\".\")[0]}.jpg\"\n",
    "            \n",
    "            if not os.path.exists(label_file_path):\n",
    "                with open(label_file_path, \"a+\") as label_file:\n",
    "                    pass\n",
    "            if not os.path.exists(img_file_path):\n",
    "                with Image.open(f\"{path}/{normal_images_path}/{nomal_item}\") as img:\n",
    "                    resized_img = img.resize((IMAGE_SIZE, IMAGE_SIZE))\n",
    "                    resized_img.save(img_file_path)\n",
    "           \n",
    "                "
   ]
  },
  {
   "cell_type": "code",
   "execution_count": 8,
   "id": "69ba3526",
   "metadata": {},
   "outputs": [
    {
     "name": "stdout",
     "output_type": "stream",
     "text": [
      "1795\n"
     ]
    },
    {
     "name": "stderr",
     "output_type": "stream",
     "text": [
      "100%|██████████| 1795/1795 [00:25<00:00, 69.40it/s]\n"
     ]
    },
    {
     "name": "stdout",
     "output_type": "stream",
     "text": [
      "0\n"
     ]
    },
    {
     "name": "stderr",
     "output_type": "stream",
     "text": [
      "100%|██████████| 1125/1125 [00:51<00:00, 21.82it/s]\n"
     ]
    }
   ],
   "source": [
    "read_raw_data(raw_data_path[1])"
   ]
  },
  {
   "cell_type": "code",
   "execution_count": 9,
   "id": "ed50df6c",
   "metadata": {},
   "outputs": [
    {
     "name": "stdout",
     "output_type": "stream",
     "text": [
      "9273\n"
     ]
    },
    {
     "name": "stderr",
     "output_type": "stream",
     "text": [
      "100%|██████████| 9273/9273 [01:50<00:00, 83.72it/s] \n"
     ]
    },
    {
     "name": "stdout",
     "output_type": "stream",
     "text": [
      "1674\n"
     ]
    },
    {
     "name": "stderr",
     "output_type": "stream",
     "text": [
      "100%|██████████| 2518/2518 [01:49<00:00, 23.07it/s]\n"
     ]
    }
   ],
   "source": [
    "read_raw_data(raw_data_path[0])"
   ]
  },
  {
   "cell_type": "code",
   "execution_count": 10,
   "id": "68c78949",
   "metadata": {},
   "outputs": [
    {
     "name": "stdout",
     "output_type": "stream",
     "text": [
      "✅ Dataset split completed.\n"
     ]
    }
   ],
   "source": [
    "from pathlib import Path\n",
    "import random\n",
    "import shutil\n",
    "\n",
    "\n",
    "image_dir = Path('data/yolo/images')\n",
    "label_dir = Path('data/yolo/labels')\n",
    "\n",
    "# Create output directories\n",
    "for split in ['train', 'val', 'test']:\n",
    "    (image_dir / split).mkdir(exist_ok=True)\n",
    "    (label_dir / split).mkdir(exist_ok=True)\n",
    "\n",
    "# Get all image files (assuming .jpg or .png)\n",
    "image_files = [f for f in os.listdir(image_dir) if f.endswith(('.jpg', '.png'))]\n",
    "random.shuffle(image_files)\n",
    "\n",
    "# Define split sizes\n",
    "total = len(image_files)\n",
    "train_split = int(total * 0.7)\n",
    "val_split = int(total * 0.2)\n",
    "test_split = total - train_split - val_split\n",
    "\n",
    "# Assign file lists\n",
    "train_files = image_files[:train_split]\n",
    "val_files = image_files[train_split:train_split + val_split]\n",
    "test_files = image_files[train_split + val_split:]\n",
    "\n",
    "# Function to move files\n",
    "def move_files(files, dest):\n",
    "    for f in files:\n",
    "        base_name = Path(f).stem\n",
    "        image_src = image_dir / f\n",
    "        label_src = label_dir / f\"{base_name}.txt\"\n",
    "        \n",
    "        image_dst = image_dir / dest / f\n",
    "        label_dst = label_dir / dest / f\"{base_name}.txt\"\n",
    "        \n",
    "        if image_src.exists():\n",
    "            shutil.copy(str(image_src), str(image_dst))\n",
    "        if label_src.exists():\n",
    "            shutil.copy(str(label_src), str(label_dst))\n",
    "\n",
    "# Move files\n",
    "move_files(train_files, 'train')\n",
    "move_files(val_files, 'val')\n",
    "move_files(test_files, 'test')\n",
    "\n",
    "print(\"✅ Dataset split completed.\")"
   ]
  }
 ],
 "metadata": {
  "kernelspec": {
   "display_name": ".venv",
   "language": "python",
   "name": "python3"
  },
  "language_info": {
   "codemirror_mode": {
    "name": "ipython",
    "version": 3
   },
   "file_extension": ".py",
   "mimetype": "text/x-python",
   "name": "python",
   "nbconvert_exporter": "python",
   "pygments_lexer": "ipython3",
   "version": "3.13.3"
  }
 },
 "nbformat": 4,
 "nbformat_minor": 5
}
